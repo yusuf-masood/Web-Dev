{
 "cells": [
  {
   "cell_type": "code",
   "execution_count": 3,
   "metadata": {},
   "outputs": [
    {
     "name": "stdout",
     "output_type": "stream",
     "text": [
      "1 3 5 "
     ]
    }
   ],
   "source": [
    "l = list(map(int, input().split(\" \")))\n",
    "for i in range(len(l)):\n",
    "    if i %2==0:\n",
    "        print(l[i], end=\" \")"
   ]
  },
  {
   "cell_type": "code",
   "execution_count": null,
   "metadata": {},
   "outputs": [],
   "source": [
    "l = list(map(int, input().split(\" \")))\n",
    "for i in l:\n",
    "    if i %2==0:\n",
    "        print(i, end=\" \")"
   ]
  },
  {
   "cell_type": "code",
   "execution_count": 4,
   "metadata": {},
   "outputs": [
    {
     "name": "stdout",
     "output_type": "stream",
     "text": [
      "3\n"
     ]
    }
   ],
   "source": [
    "l = list(map(int, input().split(\" \")))\n",
    "count = 0\n",
    "for i in l:\n",
    "    if i >0:\n",
    "        count+=1\n",
    "print(count)"
   ]
  },
  {
   "cell_type": "code",
   "execution_count": 5,
   "metadata": {},
   "outputs": [
    {
     "name": "stdout",
     "output_type": "stream",
     "text": [
      "5 4 "
     ]
    }
   ],
   "source": [
    "l = list(map(int, input().split(\" \")))\n",
    "for i in range(1,len(l)):\n",
    "    if l[i]>l[i-1]:\n",
    "        print(l[i], end=\" \")"
   ]
  },
  {
   "cell_type": "code",
   "execution_count": 9,
   "metadata": {},
   "outputs": [
    {
     "name": "stdout",
     "output_type": "stream",
     "text": [
      "1 1\n"
     ]
    }
   ],
   "source": [
    "l = list(map(int, input().split(\" \")))\n",
    "for i in range(1,len(l)):\n",
    "    if (l[i]>0 and l[i-1]>0) or (l[i]<0 and l[i-1]<0):\n",
    "        print(l[i-1],l[i], sep=\" \")\n",
    "        break"
   ]
  },
  {
   "cell_type": "code",
   "execution_count": 21,
   "metadata": {},
   "outputs": [
    {
     "name": "stdout",
     "output_type": "stream",
     "text": [
      "1\n"
     ]
    }
   ],
   "source": [
    "l = list(map(int, input().split(\" \")))\n",
    "count=0\n",
    "for i in range(1,len(l)-1):\n",
    "    if l[i]>l[i-1] and l[i]>l[i+1]:\n",
    "        count+=1\n",
    "print(count)"
   ]
  },
  {
   "cell_type": "code",
   "execution_count": 22,
   "metadata": {},
   "outputs": [
    {
     "name": "stdout",
     "output_type": "stream",
     "text": [
      "5 2\n"
     ]
    }
   ],
   "source": [
    "l = list(map(int, input().split(\" \")))\n",
    "max = l[0]\n",
    "max_i = 0\n",
    "for i in range(len(l)):\n",
    "    if max<l[i]:\n",
    "        max = l[i]\n",
    "        max_i = i\n",
    "print(max, max_i, sep=\" \")"
   ]
  }
 ],
 "metadata": {
  "kernelspec": {
   "display_name": "Python 3",
   "language": "python",
   "name": "python3"
  },
  "language_info": {
   "codemirror_mode": {
    "name": "ipython",
    "version": 3
   },
   "file_extension": ".py",
   "mimetype": "text/x-python",
   "name": "python",
   "nbconvert_exporter": "python",
   "pygments_lexer": "ipython3",
   "version": "3.9.13"
  },
  "orig_nbformat": 4
 },
 "nbformat": 4,
 "nbformat_minor": 2
}
