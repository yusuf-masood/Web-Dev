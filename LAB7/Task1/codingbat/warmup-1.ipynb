{
 "cells": [
  {
   "cell_type": "code",
   "execution_count": null,
   "metadata": {},
   "outputs": [],
   "source": [
    "def sleep_in(weekday, vacation):\n",
    "  if not weekday or vacation:\n",
    "    return True\n",
    "  else:\n",
    "    return False\n"
   ]
  },
  {
   "cell_type": "code",
   "execution_count": null,
   "metadata": {},
   "outputs": [],
   "source": [
    "def monkey_trouble(a_smile, b_smile):\n",
    "  if a_smile and b_smile:\n",
    "    return True\n",
    "  if not a_smile and not b_smile:\n",
    "    return True\n",
    "  return False"
   ]
  },
  {
   "cell_type": "code",
   "execution_count": null,
   "metadata": {},
   "outputs": [],
   "source": [
    "def sum_double(a, b):\n",
    "  sum = a + b\n",
    "  \n",
    "  if a == b:\n",
    "    sum = sum * 2\n",
    "  return sum"
   ]
  },
  {
   "cell_type": "code",
   "execution_count": null,
   "metadata": {},
   "outputs": [],
   "source": [
    "def diff21(n):\n",
    "  if n <= 21:\n",
    "    return 21 - n\n",
    "  else:\n",
    "    return (n - 21) * 2"
   ]
  },
  {
   "cell_type": "code",
   "execution_count": null,
   "metadata": {},
   "outputs": [],
   "source": [
    "def parrot_trouble(talking, hour):\n",
    "  return (talking and (hour < 7 or hour > 20))"
   ]
  },
  {
   "cell_type": "code",
   "execution_count": null,
   "metadata": {},
   "outputs": [],
   "source": [
    "def makes10(a, b):\n",
    "  return (a == 10 or b == 10 or a+b == 10)"
   ]
  },
  {
   "cell_type": "code",
   "execution_count": null,
   "metadata": {},
   "outputs": [],
   "source": [
    "def near_hundred(n):\n",
    "  return ((abs(100 - n) <= 10) or (abs(200 - n) <= 10))"
   ]
  },
  {
   "cell_type": "code",
   "execution_count": null,
   "metadata": {},
   "outputs": [],
   "source": [
    "def pos_neg(a, b, negative):\n",
    "  if negative:\n",
    "    return (a < 0 and b < 0)\n",
    "  else:\n",
    "    return ((a < 0 and b > 0) or (a > 0 and b < 0))"
   ]
  },
  {
   "cell_type": "code",
   "execution_count": null,
   "metadata": {},
   "outputs": [],
   "source": [
    "def not_string(str):\n",
    "  if len(str) >= 3 and str[:3] == \"not\":\n",
    "    return str\n",
    "  return \"not \" + str"
   ]
  }
 ],
 "metadata": {
  "language_info": {
   "name": "python"
  },
  "orig_nbformat": 4
 },
 "nbformat": 4,
 "nbformat_minor": 2
}
